{
 "cells": [
  {
   "cell_type": "code",
   "execution_count": 5,
   "id": "52a307de",
   "metadata": {},
   "outputs": [],
   "source": [
    "def fibbo(num):\n",
    "    a=0\n",
    "    b=1\n",
    "    if num==0:\n",
    "        print(a,end=\" \")\n",
    "    elif num==1:    \n",
    "        print(b,end=\" \")\n",
    "    else:\n",
    "        print(a,end=\" \")\n",
    "        print(b,end=\" \")\n",
    "        while num>2:\n",
    "            c=a+b\n",
    "            a=b\n",
    "            b=c\n",
    "            print(b,end=\" \")\n",
    "            num-=1"
   ]
  },
  {
   "cell_type": "code",
   "execution_count": 7,
   "id": "30a47313",
   "metadata": {},
   "outputs": [
    {
     "name": "stdout",
     "output_type": "stream",
     "text": [
      "enter the number of terms10\n",
      "0 1 1 2 3 5 8 13 21 34 "
     ]
    }
   ],
   "source": [
    "num=int(input(\"enter the number of terms\"))\n",
    "fibbo(num)"
   ]
  },
  {
   "cell_type": "code",
   "execution_count": 3,
   "id": "dee68c15",
   "metadata": {},
   "outputs": [],
   "source": [
    "def fibb(x):\n",
    "    if x<2:\n",
    "        return(x)\n",
    "    else:\n",
    "        return fibb(x-1)+fibb(x-2)\n",
    "    "
   ]
  },
  {
   "cell_type": "code",
   "execution_count": 4,
   "id": "41206b50",
   "metadata": {},
   "outputs": [
    {
     "name": "stdout",
     "output_type": "stream",
     "text": [
      "enter the number of terms10\n",
      "0 1 1 2 3 5 8 13 21 34 "
     ]
    }
   ],
   "source": [
    "a=int(input(\"enter the number of terms\"))\n",
    "for i in range(a):\n",
    "    print(fibb(i),end=\" \")"
   ]
  },
  {
   "cell_type": "code",
   "execution_count": null,
   "id": "c48f6a94",
   "metadata": {},
   "outputs": [],
   "source": []
  }
 ],
 "metadata": {
  "kernelspec": {
   "display_name": "Python 3 (ipykernel)",
   "language": "python",
   "name": "python3"
  },
  "language_info": {
   "codemirror_mode": {
    "name": "ipython",
    "version": 3
   },
   "file_extension": ".py",
   "mimetype": "text/x-python",
   "name": "python",
   "nbconvert_exporter": "python",
   "pygments_lexer": "ipython3",
   "version": "3.9.6"
  }
 },
 "nbformat": 4,
 "nbformat_minor": 5
}
