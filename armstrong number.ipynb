{
 "cells": [
  {
   "cell_type": "code",
   "execution_count": 20,
   "id": "c3775d5a",
   "metadata": {},
   "outputs": [],
   "source": [
    "def arms(num):\n",
    "    sum=0\n",
    "    n=num\n",
    "    dig=0\n",
    "    while(n!=0):\n",
    "        n=math.floor(n/10)\n",
    "        dig+=1\n",
    "    while(num!=0):\n",
    "        x=(num%10)\n",
    "        sum=x**dig + sum\n",
    "        num=math.floor(num/10)\n",
    "    if sum==a:\n",
    "        return(\"armstrong\")\n",
    "    else:\n",
    "        return(\"not armstrong\")"
   ]
  },
  {
   "cell_type": "code",
   "execution_count": null,
   "id": "17b078e5",
   "metadata": {},
   "outputs": [],
   "source": []
  },
  {
   "cell_type": "code",
   "execution_count": 22,
   "id": "0f00eee2",
   "metadata": {},
   "outputs": [
    {
     "name": "stdout",
     "output_type": "stream",
     "text": [
      "enter a number to be checked\t9474\n"
     ]
    },
    {
     "data": {
      "text/plain": [
       "'armstrong'"
      ]
     },
     "execution_count": 22,
     "metadata": {},
     "output_type": "execute_result"
    }
   ],
   "source": [
    "import math\n",
    "a=int(input(\"enter a number to be checked\\t\"))\n",
    "b=arms(a)\n",
    "b"
   ]
  },
  {
   "cell_type": "code",
   "execution_count": 24,
   "id": "c327cfd9",
   "metadata": {},
   "outputs": [],
   "source": []
  },
  {
   "cell_type": "code",
   "execution_count": null,
   "id": "42648166",
   "metadata": {},
   "outputs": [],
   "source": []
  },
  {
   "cell_type": "code",
   "execution_count": null,
   "id": "ded163cb",
   "metadata": {},
   "outputs": [],
   "source": []
  }
 ],
 "metadata": {
  "kernelspec": {
   "display_name": "Python 3 (ipykernel)",
   "language": "python",
   "name": "python3"
  },
  "language_info": {
   "codemirror_mode": {
    "name": "ipython",
    "version": 3
   },
   "file_extension": ".py",
   "mimetype": "text/x-python",
   "name": "python",
   "nbconvert_exporter": "python",
   "pygments_lexer": "ipython3",
   "version": "3.9.6"
  }
 },
 "nbformat": 4,
 "nbformat_minor": 5
}
