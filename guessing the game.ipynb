{
 "cells": [
  {
   "cell_type": "code",
   "execution_count": null,
   "id": "d7a0ce9b",
   "metadata": {},
   "outputs": [],
   "source": [
    "import random\n",
    "num=random.randint(1,100)\n",
    "count=0\n",
    "x=int(input(\"enter the number\"))\n",
    "if 1<=(num-x)<=10 or 1<=(x-num)<=10:\n",
    "    print(\"warm\")\n",
    "    count+=1\n",
    "else:\n",
    "    print(\"cold\")\n",
    "    count+=1\n",
    "while x!=num:\n",
    "    y=int(input(\"enter another number\"))\n",
    "    if ((x-num)>(y-num) and(x-num)>0 and (y-num)>0) or((x-num)>(num-y) and(x-num)>0 and (num-y)>0) or ((num-x)>(y-num) and(num-x)>0 and(y-num)>0) or((num-x)>(num-y) and(num-x)>0 and(num-y)>0) :\n",
    "        print(\"warmer\")\n",
    "        x=y\n",
    "        count+=1 \n",
    "    elif y==num:\n",
    "        print(\"success\")\n",
    "        count+=1\n",
    "        break\n",
    "    else:\n",
    "        print(\"Colder\")\n",
    "        count+=1\n",
    "print(\"you took \",count,\" counts\")\n",
    "    "
   ]
  },
  {
   "cell_type": "code",
   "execution_count": 1,
   "id": "3e78dc8a",
   "metadata": {},
   "outputs": [
    {
     "data": {
      "text/plain": [
       "'C:\\\\Users\\\\ACER\\\\programming'"
      ]
     },
     "execution_count": 1,
     "metadata": {},
     "output_type": "execute_result"
    }
   ],
   "source": [
    "pwd"
   ]
  },
  {
   "cell_type": "code",
   "execution_count": null,
   "id": "2c53f92b",
   "metadata": {},
   "outputs": [],
   "source": []
  }
 ],
 "metadata": {
  "kernelspec": {
   "display_name": "Python 3 (ipykernel)",
   "language": "python",
   "name": "python3"
  },
  "language_info": {
   "codemirror_mode": {
    "name": "ipython",
    "version": 3
   },
   "file_extension": ".py",
   "mimetype": "text/x-python",
   "name": "python",
   "nbconvert_exporter": "python",
   "pygments_lexer": "ipython3",
   "version": "3.9.6"
  }
 },
 "nbformat": 4,
 "nbformat_minor": 5
}
